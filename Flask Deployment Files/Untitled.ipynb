{
 "cells": [
  {
   "cell_type": "code",
   "execution_count": 1,
   "id": "20c1840f",
   "metadata": {},
   "outputs": [],
   "source": [
    "from flask import Flask, render_template \n",
    "import pandas as pd\n",
    "import pickle \n",
    "import os  \n",
    "import numpy as np "
   ]
  },
  {
   "cell_type": "code",
   "execution_count": 2,
   "id": "acb6d676",
   "metadata": {},
   "outputs": [],
   "source": [
    "# Pointing to models & data folders path\n",
    "app = Flask(__name__)\n",
    "models_folder = \"../models/\"\n",
    "data_folder = \"../data/\" "
   ]
  },
  {
   "cell_type": "code",
   "execution_count": 7,
   "id": "54e3ec06",
   "metadata": {},
   "outputs": [
    {
     "ename": "ModuleNotFoundError",
     "evalue": "No module named 'xgboost'",
     "output_type": "error",
     "traceback": [
      "\u001b[1;31m---------------------------------------------------------------------------\u001b[0m",
      "\u001b[1;31mModuleNotFoundError\u001b[0m                       Traceback (most recent call last)",
      "\u001b[1;32m~\\AppData\\Local\\Temp\\ipykernel_15472\\1190196600.py\u001b[0m in \u001b[0;36m<module>\u001b[1;34m\u001b[0m\n\u001b[0;32m      1\u001b[0m \u001b[1;31m# Load the pickled classification model\u001b[0m\u001b[1;33m\u001b[0m\u001b[1;33m\u001b[0m\u001b[0m\n\u001b[0;32m      2\u001b[0m \u001b[1;32mwith\u001b[0m \u001b[0mopen\u001b[0m\u001b[1;33m(\u001b[0m\u001b[0mos\u001b[0m\u001b[1;33m.\u001b[0m\u001b[0mpath\u001b[0m\u001b[1;33m.\u001b[0m\u001b[0mjoin\u001b[0m\u001b[1;33m(\u001b[0m\u001b[0mmodels_folder\u001b[0m\u001b[1;33m,\u001b[0m \u001b[1;34m'XGB_Clf.pkl'\u001b[0m\u001b[1;33m)\u001b[0m\u001b[1;33m,\u001b[0m \u001b[1;34m'rb'\u001b[0m\u001b[1;33m)\u001b[0m \u001b[1;32mas\u001b[0m \u001b[0mf\u001b[0m\u001b[1;33m:\u001b[0m\u001b[1;33m\u001b[0m\u001b[1;33m\u001b[0m\u001b[0m\n\u001b[1;32m----> 3\u001b[1;33m     \u001b[0mclf_model\u001b[0m \u001b[1;33m=\u001b[0m \u001b[0mpickle\u001b[0m\u001b[1;33m.\u001b[0m\u001b[0mload\u001b[0m\u001b[1;33m(\u001b[0m\u001b[0mf\u001b[0m\u001b[1;33m)\u001b[0m\u001b[1;33m\u001b[0m\u001b[1;33m\u001b[0m\u001b[0m\n\u001b[0m",
      "\u001b[1;31mModuleNotFoundError\u001b[0m: No module named 'xgboost'"
     ]
    }
   ],
   "source": [
    "# Load the pickled classification model\n",
    "with open(os.path.join(models_folder, 'XGB_Clf.pkl'), 'rb') as f:\n",
    "    clf_model = pickle.load(f) "
   ]
  },
  {
   "cell_type": "code",
   "execution_count": 6,
   "id": "ec97f4ba",
   "metadata": {},
   "outputs": [
    {
     "ename": "ModuleNotFoundError",
     "evalue": "No module named 'xgboost'",
     "output_type": "error",
     "traceback": [
      "\u001b[1;31m---------------------------------------------------------------------------\u001b[0m",
      "\u001b[1;31mModuleNotFoundError\u001b[0m                       Traceback (most recent call last)",
      "\u001b[1;32m~\\AppData\\Local\\Temp\\ipykernel_15472\\3545220553.py\u001b[0m in \u001b[0;36m<module>\u001b[1;34m\u001b[0m\n\u001b[0;32m      1\u001b[0m \u001b[1;31m# Load the pickled regression model\u001b[0m\u001b[1;33m\u001b[0m\u001b[1;33m\u001b[0m\u001b[0m\n\u001b[0;32m      2\u001b[0m \u001b[1;32mwith\u001b[0m \u001b[0mopen\u001b[0m\u001b[1;33m(\u001b[0m\u001b[0mos\u001b[0m\u001b[1;33m.\u001b[0m\u001b[0mpath\u001b[0m\u001b[1;33m.\u001b[0m\u001b[0mjoin\u001b[0m\u001b[1;33m(\u001b[0m\u001b[0mmodels_folder\u001b[0m\u001b[1;33m,\u001b[0m \u001b[1;34m'XGB_Reg.pkl'\u001b[0m\u001b[1;33m)\u001b[0m\u001b[1;33m,\u001b[0m \u001b[1;34m'rb'\u001b[0m\u001b[1;33m)\u001b[0m \u001b[1;32mas\u001b[0m \u001b[0mf\u001b[0m\u001b[1;33m:\u001b[0m\u001b[1;33m\u001b[0m\u001b[1;33m\u001b[0m\u001b[0m\n\u001b[1;32m----> 3\u001b[1;33m     \u001b[0mreg_model\u001b[0m \u001b[1;33m=\u001b[0m \u001b[0mpickle\u001b[0m\u001b[1;33m.\u001b[0m\u001b[0mload\u001b[0m\u001b[1;33m(\u001b[0m\u001b[0mf\u001b[0m\u001b[1;33m)\u001b[0m\u001b[1;33m\u001b[0m\u001b[1;33m\u001b[0m\u001b[0m\n\u001b[0m",
      "\u001b[1;31mModuleNotFoundError\u001b[0m: No module named 'xgboost'"
     ]
    }
   ],
   "source": [
    "# Load the pickled regression model \n",
    "with open(os.path.join(models_folder, 'XGB_Reg.pkl'), 'rb') as f:\n",
    "    reg_model = pickle.load(f)"
   ]
  },
  {
   "cell_type": "code",
   "execution_count": null,
   "id": "19b20fc4",
   "metadata": {},
   "outputs": [],
   "source": [
    "# Load the data\n",
    "data = pd.read_csv(os.path.join(data_folder, 'scenario_1_test_data.csv'), index_col=0).reset_index(drop=True)\n",
    "\n",
    "# Defining predictor columns\n",
    "predictors = ['popular_day_Friday', 'popular_day_Monday', 'popular_day_Saturday',\n",
    "       'popular_day_Sunday', 'popular_day_Thursday', 'popular_day_Tuesday',\n",
    "       'popular_day_Wednesday', 'cluster_Cluster 0', 'cluster_Cluster 1',\n",
    "       'cluster_Cluster 2', 'cluster_Cluster 3', 'cluster_Noise',\n",
    "       'cluster_2_Cluster 0', 'cluster_2_Cluster 1', 'cluster_2_Cluster 2',\n",
    "       'cluster_2_Cluster 3', 'cluster_2_Cluster 4', 'cluster_2_Noise',\n",
    "       'phone_brand', 'device_model', 'number_of_events', 'popular_hour',\n",
    "       'median_lat', 'median_long', 'total_apps_installed',\n",
    "       'total_apps_active', 'n_categories', 'avg_events_hour',\n",
    "       'popular_category', 'avg_events_day', 'percentage_of_active_apps']\n"
   ]
  },
  {
   "cell_type": "code",
   "execution_count": null,
   "id": "59af74be",
   "metadata": {},
   "outputs": [],
   "source": [
    "\n",
    "# Define a route to display the predictions\n",
    "@app.route('/')\n",
    "def home():\n",
    "    # Make predictions\n",
    "    gender_pred = clf_model.predict_proba(data[predictors])[:, 1]\n",
    "    age_pred = reg_model.predict(data[predictors])\n",
    "    \n",
    "    # Create a table of the predictions\n",
    "    table = pd.DataFrame({'Gender_prob': pd.Series([round(i, 2) for i in gender_pred]),\n",
    "                           'Age': pd.Series([round(i) for i in age_pred])})\n",
    "\n",
    "    #Ordering probabilities to obtain deciles\n",
    "    sorted_probs = np.sort(table['Gender_prob'])\n",
    "\n",
    "    # Find the 10th, 20th, 30th, and so on percentiles to divide the sorted probabilities into deciles\n",
    "    decile_cutoffs = np.percentile(sorted_probs, np.arange(10, 101, 10))\n",
    "\n",
    "    # Map the probabilities to class labels based on the deciles\n",
    "    table['Gender'] = \"Undefined (deciles 4, 5 and 6)\"\n",
    "    \n",
    "    # -3 position will be the 8th decile, so each value higher than that one will be MALE\n",
    "    table.loc[table['Gender_prob'] >= decile_cutoffs[-3], 'Gender'] = \"Male\"\n",
    "\n",
    "    # 2 position will be the 3th decile so each value lower than that will be Female\n",
    "    table.loc[table['Gender_prob'] <= decile_cutoffs[2], 'Gender'] = \"Female\"\n",
    "\n",
    "    #Ordering\n",
    "    table = table[[\"Gender_prob\", \"Gender\", \"Age\"]]\n",
    "\n",
    "    #Mapping campaigns\n",
    "    table[\"Gender Based Campaing\"] = \"None\"\n",
    "\n",
    "    table.loc[table[\"Gender\"] == \"Female\", \"Gender Based Campaing\"] = \"Campaign 1 - Campaing 2\"\n",
    "    table.loc[table[\"Gender\"] == \"Male\", \"Gender Based Campaing\"] = \"Campaign 3\"\n",
    "\n",
    "\n",
    "    table[\"Age Based Campaing\"] = \"None\"\n",
    "\n",
    "    table.loc[table[\"Age\"].isin(np.arange(0,25,1)), \"Age Based Campaing\"] = \"Campaing 4\"\n",
    "    table.loc[table[\"Age\"].isin(np.arange(25,33,1)), \"Age Based Campaing\"] = \"Campaing 5\"\n",
    "    table.loc[table[\"Age\"] >= 32, \"Age Based Campaing\"] = \"Campaing 6\"\n",
    "\n",
    "\n",
    "    table = pd.concat([data[[\"device_id\"]], table], axis=1)\n",
    "    \n",
    "\n",
    "    # Creating 50 sample devices to show in the flask app\n",
    "    sample_50 = table.sample(50).reset_index(drop=True)\n",
    "\n",
    "    # Render the template with the table\n",
    "    return render_template('table.html', table=sample_50.to_html(index=True))\n"
   ]
  },
  {
   "cell_type": "code",
   "execution_count": null,
   "id": "11c10dbc",
   "metadata": {},
   "outputs": [],
   "source": [
    "if __name__ == '__main__':\n",
    "    app.run(debug=True, host=\"0.0.0.0\", port=8000)"
   ]
  }
 ],
 "metadata": {
  "kernelspec": {
   "display_name": "Python 3 (ipykernel)",
   "language": "python",
   "name": "python3"
  },
  "language_info": {
   "codemirror_mode": {
    "name": "ipython",
    "version": 3
   },
   "file_extension": ".py",
   "mimetype": "text/x-python",
   "name": "python",
   "nbconvert_exporter": "python",
   "pygments_lexer": "ipython3",
   "version": "3.9.13"
  }
 },
 "nbformat": 4,
 "nbformat_minor": 5
}
